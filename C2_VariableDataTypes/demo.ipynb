{
 "cells": [
  {
   "cell_type": "code",
   "execution_count": null,
   "metadata": {},
   "outputs": [],
   "source": [
    "#6\n",
    "sentence = 'tom\\'s pet is a cat'\n",
    "sentence2=\"tom's pet is a cat\"\n",
    "sentence3=\"tom said:\\\"hello world\\\"\"\n",
    "sentence4='tom said:\"hello world\"'\n",
    "words= \"\"\"\n",
    "hello\n",
    "world\n",
    "abcd\"\"\"\n",
    "print(words)\n",
    "\n",
    "py_str='python'\n",
    "len(py_str)\n",
    "'python'[0]\n",
    "py_str[-1]\n",
    "#py_str[6]\n",
    "py_str[2:4]\n",
    "py_str[2:]\n",
    "py_str[:2]\n",
    "py_str[:]\n",
    "py_str[::2]\n",
    "py_str[1::2]\n",
    "py_str[::-1]\n",
    "\n",
    "py_str+'is good'\n",
    "py_str*3\n",
    "'t' in py_str\n",
    "'th' in py_str\n",
    "'to' in py_str\n",
    "'to'not in py_str"
   ]
  },
  {
   "cell_type": "code",
   "execution_count": null,
   "metadata": {},
   "outputs": [],
   "source": [
    "#7\n",
    "alist = [10,20,30,'bob','alice',[1,2,3]]\n",
    "len(alist)\n",
    "alist[-1]\n",
    "alist[-1][-1]\n",
    "[1,2,3][-1]\n",
    "alist[-2][-2]\n",
    "alist[3:5]\n",
    "10 in alist \n",
    "'0' in alist\n",
    "100 not in alist \n",
    "alist[-1]=100\n",
    "alist.append(200)"
   ]
  },
  {
   "cell_type": "code",
   "execution_count": null,
   "metadata": {},
   "outputs": [],
   "source": [
    "#8\n",
    "atuple = (10,20,30,'bob','alice',[1,2,3])\n",
    "len(atuple)\n",
    "10 in atuple\n",
    "atuple[-20]\n",
    "atuple[3:5]\n",
    "#atuple 元组是不能变"
   ]
  },
  {
   "cell_type": "code",
   "execution_count": null,
   "metadata": {},
   "outputs": [],
   "source": [
    "#9\n",
    "#字典是key-value 没有顺序，通过键取出值\n",
    "adict = {'name': 'bob','age':23}\n",
    "len(adict)\n",
    "'bob' in adict \n",
    "'name' in adict \n",
    "adict['email']='bob@tedu.cn'\n",
    "adict['age']=25"
   ]
  },
  {
   "cell_type": "code",
   "execution_count": null,
   "metadata": {},
   "outputs": [],
   "source": [
    "#10\n",
    "if 3>0:\n",
    "    print ('yes')\n",
    "    print('ok')\n",
    "\n",
    "if 10 in [10,20,30]:\n",
    "    print('ok')\n",
    "\n",
    "if -0.0:\n",
    "    print('yes')\n",
    "\n",
    "if [1,2]:\n",
    "    print('yes')\n",
    "\n",
    "if '':\n",
    "    print('yes')"
   ]
  },
  {
   "cell_type": "code",
   "execution_count": null,
   "metadata": {},
   "outputs": [],
   "source": [
    "#11\n",
    "a=10\n",
    "b=20\n",
    "if a<b:\n",
    "    smaller=a\n",
    "else:\n",
    "    smaller=b\n",
    "    print(smaller)\n",
    "    s=a if a<b else b\n",
    "    print(s)"
   ]
  },
  {
   "cell_type": "code",
   "execution_count": null,
   "metadata": {},
   "outputs": [],
   "source": [
    "#12\n",
    "import getpass\n",
    "\n",
    "username=input('username:')\n",
    "password=getpass.getpass('password:')\n",
    "\n",
    "if username=='bob'and password=='123456':\n",
    "    print('Longin successful')\n",
    "else:\n",
    "    print('Login incorrect')"
   ]
  },
  {
   "cell_type": "code",
   "execution_count": null,
   "metadata": {},
   "outputs": [],
   "source": [
    "#13\n",
    "import random\n",
    "num=random.randint(1,10)\n",
    "answer=int(input('guess a number'))\n",
    "if answer > num:\n",
    "    print('猜大了')\n",
    "elif answer < num:\n",
    "    print('猜小了')\n",
    "else:\n",
    "    print('猜对了')\n",
    "print('the number :', num)"
   ]
  },
  {
   "cell_type": "code",
   "execution_count": null,
   "metadata": {},
   "outputs": [],
   "source": [
    "#14\n",
    "score=int(input('分数:'))\n",
    "\n",
    "if score>=90:\n",
    "    print('优秀')\n",
    "elif score>=80:\n",
    "    print('好')\n",
    "elif score>=70:\n",
    "    print('良')\n",
    "elif score>=60:\n",
    "    print('及格')\n",
    "else:\n",
    "    print('你要努力了')\n"
   ]
  },
  {
   "cell_type": "code",
   "execution_count": null,
   "metadata": {},
   "outputs": [],
   "source": [
    "#15\n",
    "score=int(input('分数：'))\n",
    "if score >=60 and score < 70:\n",
    "    print('及格')\n",
    "elif 70 <= score <80:\n",
    "    print('良')\n",
    "elif 80 <= score <90:\n",
    "    print('好')\n",
    "elif score >= 90:\n",
    "    print('优秀')\n",
    "else:\n",
    "    print('你努力了')"
   ]
  },
  {
   "cell_type": "code",
   "execution_count": null,
   "metadata": {},
   "outputs": [],
   "source": [
    "#16\n",
    "import random \n",
    "\n",
    "all_choices = ['石头','剪刀','布']\n",
    "computer = random.choice(all_choices)\n",
    "player = input ('请出拳')\n",
    "\n",
    "print(\"your choice:%s,computer's choice:%s\"%(player,computer))\n",
    "if player =='石头':\n",
    "    if computer == '石头':\n",
    "         print('平局')\n",
    "    elif computer == '剪刀':\n",
    "         print('you win !!!')\n",
    "    else :\n",
    "        print('you lose!!!')\n",
    "elif player == '剪刀':\n",
    "    if computer == '石头':\n",
    "        print('you loss!!!')\n",
    "    elif computer == '剪刀':\n",
    "         print('平局')\n",
    "    else:\n",
    "        print('you win!!!')\n",
    "else:\n",
    "    if computer == '石头':\n",
    "        print('you win!!!')\n",
    "    elif computer == '剪刀':\n",
    "        print('you lose!!!')\n",
    "    else:\n",
    "        print('平局')\n"
   ]
  },
  {
   "cell_type": "code",
   "execution_count": null,
   "metadata": {},
   "outputs": [],
   "source": [
    "#17\n",
    "import random \n",
    "\n",
    "all_choices = ['石头','剪刀','布']\n",
    "win_list = [['石头','剪刀'],['剪刀','布'],['布','石头']]\n",
    "prompt = \"\"\"(0) 石头\n",
    "(1)剪刀\n",
    "(2) 布\n",
    "请选择(0/1/2):\"\"\"\n",
    "computer = random.choice (all_choices)\n",
    "ind = int(input(prompt))\n",
    "player=all_choices[ind]\n",
    "\n",
    "print(\"your choice:%s, compueter's choice: %s\"%(player,computer))\n",
    "if player == computer:\n",
    "    print('\\033[32:1m平局\\033[0m')\n",
    "elif [player,computer] in win_list:\n",
    "    print('\\033[31:1myou win !!!\\033[0m')\n",
    "else:\n",
    "    print('\\033[31:1myou lose!!!\\033[0m')"
   ]
  },
  {
   "cell_type": "code",
   "execution_count": null,
   "metadata": {},
   "outputs": [],
   "source": [
    "#18\n",
    "import random\n",
    "num=random.randint(1,10)\n",
    "running=True\n",
    "while running:\n",
    "    answer =int(input('guess the number'))\n",
    "    if answer > num:\n",
    "     print('猜大了')\n",
    "    elif answer <num:\n",
    "     print('猜小了')\n",
    "\n",
    "    else:\n",
    "         print('猜对了')\n",
    "         running = False"
   ]
  },
  {
   "cell_type": "code",
   "execution_count": null,
   "metadata": {},
   "outputs": [],
   "source": [
    "#19import random\n",
    "from typing import Counter\n",
    "num=random.randint(1,10)\n",
    "Counter =0\n",
    "while Counter < 5:\n",
    "    answer= int(input('guess the number'))\n",
    "    if answer > num:\n",
    "         print('猜大了')    \n",
    "    elif answer < num:\n",
    "         print('猜小了')\n",
    "    else:\n",
    "         print('猜对了')\n",
    "    break\n",
    "    Counter +=1\n",
    "else:\n",
    "    print('the number is :', num)"
   ]
  },
  {
   "cell_type": "code",
   "execution_count": null,
   "metadata": {},
   "outputs": [],
   "source": [
    "#20\n",
    "sum100=0\n",
    "counter=1\n",
    "\n",
    "while counter<101:\n",
    "    sum100+=counter\n",
    "    counter+=1\n",
    "\n",
    "print(sum100)"
   ]
  }
 ],
 "metadata": {
  "kernelspec": {
   "display_name": "Python 3.10.7 64-bit",
   "language": "python",
   "name": "python3"
  },
  "language_info": {
   "codemirror_mode": {
    "name": "ipython",
    "version": 3
   },
   "file_extension": ".py",
   "mimetype": "text/x-python",
   "name": "python",
   "nbconvert_exporter": "python",
   "pygments_lexer": "ipython3",
   "version": "3.10.7"
  },
  "orig_nbformat": 4,
  "vscode": {
   "interpreter": {
    "hash": "b8bea28108f2038d71d6c55dc1832caea8e99369792fc8ba76ab47212ed27435"
   }
  }
 },
 "nbformat": 4,
 "nbformat_minor": 2
}
